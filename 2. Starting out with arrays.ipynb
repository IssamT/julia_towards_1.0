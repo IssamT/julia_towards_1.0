{
 "cells": [
  {
   "cell_type": "markdown",
   "metadata": {},
   "source": [
    "# Arrays and views"
   ]
  },
  {
   "cell_type": "markdown",
   "metadata": {},
   "source": [
    "Julia has excellent functionality for manipulating arrays and for linear algebra. We will have a quick look at this subject, which is much more complicated than you might suspect; see e.g. the talk on \"Taking vector transposes seriously\"."
   ]
  },
  {
   "cell_type": "markdown",
   "metadata": {},
   "source": [
    "Let's define a 2x2 array (matrix):"
   ]
  },
  {
   "cell_type": "code",
   "execution_count": 27,
   "metadata": {},
   "outputs": [
    {
     "data": {
      "text/plain": [
       "3×3 Array{Int64,2}:\n",
       " 1  2  3\n",
       " 4  5  6\n",
       " 7  8  9"
      ]
     },
     "execution_count": 27,
     "metadata": {},
     "output_type": "execute_result"
    }
   ],
   "source": [
    "M = [1 2 3; 4 5 6; 7 8 9]  # a 3x3 matrix"
   ]
  },
  {
   "cell_type": "code",
   "execution_count": 28,
   "metadata": {},
   "outputs": [
    {
     "data": {
      "text/plain": [
       "Array{Int64,2}"
      ]
     },
     "execution_count": 28,
     "metadata": {},
     "output_type": "execute_result"
    }
   ],
   "source": [
    "typeof(M)"
   ]
  },
  {
   "cell_type": "markdown",
   "metadata": {},
   "source": [
    "We can extract part of the matrix using indexing notation:"
   ]
  },
  {
   "cell_type": "code",
   "execution_count": 29,
   "metadata": {},
   "outputs": [
    {
     "data": {
      "text/plain": [
       "2×2 Array{Int64,2}:\n",
       " 4  5\n",
       " 7  8"
      ]
     },
     "execution_count": 29,
     "metadata": {},
     "output_type": "execute_result"
    }
   ],
   "source": [
    "part = M[2:3, 1:2]"
   ]
  },
  {
   "cell_type": "markdown",
   "metadata": {},
   "source": [
    "What happens if we modify `part`?"
   ]
  },
  {
   "cell_type": "code",
   "execution_count": 30,
   "metadata": {},
   "outputs": [
    {
     "data": {
      "text/plain": [
       "4"
      ]
     },
     "execution_count": 30,
     "metadata": {},
     "output_type": "execute_result"
    }
   ],
   "source": [
    "part[1, 1]"
   ]
  },
  {
   "cell_type": "code",
   "execution_count": 31,
   "metadata": {},
   "outputs": [
    {
     "data": {
      "text/plain": [
       "10"
      ]
     },
     "execution_count": 31,
     "metadata": {},
     "output_type": "execute_result"
    }
   ],
   "source": [
    "part[1, 1] = 10"
   ]
  },
  {
   "cell_type": "code",
   "execution_count": 32,
   "metadata": {},
   "outputs": [
    {
     "data": {
      "text/plain": [
       "2×2 Array{Int64,2}:\n",
       " 10  5\n",
       "  7  8"
      ]
     },
     "execution_count": 32,
     "metadata": {},
     "output_type": "execute_result"
    }
   ],
   "source": [
    "part"
   ]
  },
  {
   "cell_type": "code",
   "execution_count": 33,
   "metadata": {},
   "outputs": [
    {
     "data": {
      "text/plain": [
       "3×3 Array{Int64,2}:\n",
       " 1  2  3\n",
       " 4  5  6\n",
       " 7  8  9"
      ]
     },
     "execution_count": 33,
     "metadata": {},
     "output_type": "execute_result"
    }
   ],
   "source": [
    "M"
   ]
  },
  {
   "cell_type": "markdown",
   "metadata": {},
   "source": [
    "We see that `M` has *not* been modified: `part` was a **copy** of that part of `M`."
   ]
  },
  {
   "cell_type": "markdown",
   "metadata": {},
   "source": [
    "## Views"
   ]
  },
  {
   "cell_type": "markdown",
   "metadata": {},
   "source": [
    "We often do *not* want a copy, but rather just a reference to the same data, which is called a `view`: "
   ]
  },
  {
   "cell_type": "code",
   "execution_count": 34,
   "metadata": {},
   "outputs": [
    {
     "data": {
      "text/plain": [
       "2×2 SubArray{Int64,2,Array{Int64,2},Tuple{UnitRange{Int64},UnitRange{Int64}},false}:\n",
       " 4  5\n",
       " 7  8"
      ]
     },
     "execution_count": 34,
     "metadata": {},
     "output_type": "execute_result"
    }
   ],
   "source": [
    "V = view(M, 2:3, 1:2)"
   ]
  },
  {
   "cell_type": "code",
   "execution_count": 35,
   "metadata": {},
   "outputs": [
    {
     "data": {
      "text/plain": [
       "SubArray{Int64,2,Array{Int64,2},Tuple{UnitRange{Int64},UnitRange{Int64}},false}"
      ]
     },
     "execution_count": 35,
     "metadata": {},
     "output_type": "execute_result"
    }
   ],
   "source": [
    "typeof(V)"
   ]
  },
  {
   "cell_type": "markdown",
   "metadata": {},
   "source": [
    "Although this type looks complicated, it just contains the necessary information for the object to manipulate correctly the underlying data."
   ]
  },
  {
   "cell_type": "markdown",
   "metadata": {},
   "source": [
    "If we modify `V`, then `M` also gets modified, since it is the same data:"
   ]
  },
  {
   "cell_type": "code",
   "execution_count": 36,
   "metadata": {},
   "outputs": [
    {
     "data": {
      "text/plain": [
       "4"
      ]
     },
     "execution_count": 36,
     "metadata": {},
     "output_type": "execute_result"
    }
   ],
   "source": [
    "V[1, 1]"
   ]
  },
  {
   "cell_type": "code",
   "execution_count": 37,
   "metadata": {},
   "outputs": [
    {
     "data": {
      "text/plain": [
       "100"
      ]
     },
     "execution_count": 37,
     "metadata": {},
     "output_type": "execute_result"
    }
   ],
   "source": [
    "V[1, 1] = 100"
   ]
  },
  {
   "cell_type": "code",
   "execution_count": 38,
   "metadata": {},
   "outputs": [
    {
     "data": {
      "text/plain": [
       "2×2 SubArray{Int64,2,Array{Int64,2},Tuple{UnitRange{Int64},UnitRange{Int64}},false}:\n",
       " 100  5\n",
       "   7  8"
      ]
     },
     "execution_count": 38,
     "metadata": {},
     "output_type": "execute_result"
    }
   ],
   "source": [
    "V"
   ]
  },
  {
   "cell_type": "code",
   "execution_count": 39,
   "metadata": {},
   "outputs": [
    {
     "data": {
      "text/plain": [
       "3×3 Array{Int64,2}:\n",
       "   1  2  3\n",
       " 100  5  6\n",
       "   7  8  9"
      ]
     },
     "execution_count": 39,
     "metadata": {},
     "output_type": "execute_result"
    }
   ],
   "source": [
    "M"
   ]
  },
  {
   "cell_type": "markdown",
   "metadata": {},
   "source": [
    "We can also write"
   ]
  },
  {
   "cell_type": "code",
   "execution_count": 40,
   "metadata": {},
   "outputs": [
    {
     "data": {
      "text/plain": [
       "2×2 SubArray{Int64,2,Array{Int64,2},Tuple{UnitRange{Int64},UnitRange{Int64}},false}:\n",
       " 100  5\n",
       "   7  8"
      ]
     },
     "execution_count": 40,
     "metadata": {},
     "output_type": "execute_result"
    }
   ],
   "source": [
    "@view M[2:3, 1:2]"
   ]
  },
  {
   "cell_type": "markdown",
   "metadata": {},
   "source": [
    "for ease of use."
   ]
  },
  {
   "cell_type": "markdown",
   "metadata": {},
   "source": [
    "## In-place and vectorized operations: \"`.`\" (\"pointwise\")"
   ]
  },
  {
   "cell_type": "markdown",
   "metadata": {},
   "source": [
    "Suppose we have two matrices and wish to add one to the other:"
   ]
  },
  {
   "cell_type": "code",
   "execution_count": 29,
   "metadata": {},
   "outputs": [],
   "source": [
    "A = rand(1000, 1000)\n",
    "B = rand(1000, 1000);"
   ]
  },
  {
   "cell_type": "markdown",
   "metadata": {},
   "source": [
    "Coming from other languages, we might expect to write `A += B`, and indeed this works:"
   ]
  },
  {
   "cell_type": "code",
   "execution_count": 11,
   "metadata": {},
   "outputs": [
    {
     "data": {
      "text/plain": [
       "1000×1000 Array{Float64,2}:\n",
       " 1.38641   0.314192   1.53606   1.13381   …  1.05444   0.909165  0.64833  \n",
       " 0.848104  1.62689    1.01003   1.05422      1.20477   0.645419  0.0310397\n",
       " 1.60988   0.170039   0.623727  1.0248       1.11513   0.437426  0.531131 \n",
       " 0.937548  0.275432   0.622256  1.82359      1.13788   1.08481   1.6772   \n",
       " 1.24      1.14651    1.30733   1.15012      1.44183   0.668125  1.52232  \n",
       " 1.26722   1.5369     0.93767   0.888896  …  1.26697   1.12054   1.93831  \n",
       " 0.774109  0.659617   0.867579  0.949677     0.754672  0.813245  0.961856 \n",
       " 1.1071    0.621759   1.87547   0.638792     1.04591   0.606587  0.902166 \n",
       " 0.736286  1.20555    1.06171   0.428142     1.56834   1.52938   0.887196 \n",
       " 0.9663    1.44038    0.969669  0.525683     1.12883   1.03449   0.88939  \n",
       " 0.549136  0.0727231  0.660895  0.923914  …  1.15862   1.66588   0.731828 \n",
       " 0.86727   1.02377    1.00417   0.434366     1.52025   1.17064   0.530294 \n",
       " 1.32514   1.32851    1.01702   1.54345      0.604151  1.26558   0.486573 \n",
       " ⋮                                        ⋱                               \n",
       " 0.701897  0.816159   1.06449   0.768461     1.06054   0.743422  1.56855  \n",
       " 0.872818  0.59757    1.07366   1.25274      0.840678  1.62507   1.51302  \n",
       " 0.701915  1.20986    0.783892  1.32034   …  0.570959  1.85856   1.41532  \n",
       " 0.89047   1.31925    0.858155  0.423815     1.00749   1.56255   1.58225  \n",
       " 0.479429  0.334542   0.362355  0.971703     0.962215  1.00302   0.255937 \n",
       " 0.780158  0.660491   0.276435  0.595885     0.960846  0.564008  1.67224  \n",
       " 0.643693  1.48404    1.65128   0.754723     0.892432  0.566711  1.05284  \n",
       " 0.659136  0.639869   0.656564  0.763983  …  0.533664  0.900703  0.882277 \n",
       " 1.79406   1.25128    0.163744  1.05831      1.09618   1.07955   1.40395  \n",
       " 1.19354   0.330215   0.815661  1.70326      0.691018  0.981541  1.37006  \n",
       " 1.07375   0.617493   1.43841   0.566611     0.869019  0.948778  1.06645  \n",
       " 1.16721   1.29308    1.5461    1.7933       1.1106    0.716188  1.18545  "
      ]
     },
     "execution_count": 11,
     "metadata": {},
     "output_type": "execute_result"
    }
   ],
   "source": [
    "A += B"
   ]
  },
  {
   "cell_type": "markdown",
   "metadata": {},
   "source": [
    "This is just \"syntactic sugar\" (i.e. a cute way of writing) `A = A + B`."
   ]
  },
  {
   "cell_type": "markdown",
   "metadata": {},
   "source": [
    "However, it turns out that this does not do what you think it does, namely \"in-place addition\", in which each element of `A` is updated in place. Rather, it allocates a new temporary object for the result of `A + B`. We can see this:"
   ]
  },
  {
   "cell_type": "code",
   "execution_count": 8,
   "metadata": {},
   "outputs": [],
   "source": [
    "using BenchmarkTools, Compat"
   ]
  },
  {
   "cell_type": "code",
   "execution_count": 39,
   "metadata": {},
   "outputs": [
    {
     "name": "stdout",
     "output_type": "stream",
     "text": [
      "  0.002885 seconds (6 allocations: 7.630 MiB)\n"
     ]
    },
    {
     "data": {
      "text/plain": [
       "1000×1000 Array{Float64,2}:\n",
       " 18300.9   11573.4     9496.08   11073.7    …   1774.75   9014.89    8764.21 \n",
       "  7645.83   5457.2     6135.05    9996.26        330.64  10813.7    18108.8  \n",
       "  3605.05  15757.0     5983.59    3740.62      17787.2   10605.5    14001.3  \n",
       "  8223.97  15365.9      230.393   9267.63      10822.2   16846.1     3765.78 \n",
       "  9198.39  19170.7    15055.5    15482.8       13475.5    1797.14    8042.69 \n",
       "  3392.75  17445.5     6254.16   10151.3    …  19300.8   13642.3     8335.98 \n",
       " 14297.0    3297.45    7367.07    9915.52       2772.94  10958.9    11261.3  \n",
       " 14409.6   11982.5     4521.68     784.552     13507.7    6124.94     729.804\n",
       "  2359.62   9718.2      786.653  16736.9        6785.35  20503.7     9164.59 \n",
       "  7179.09   9383.98   14786.6     8096.51       8453.89   7796.07     275.502\n",
       "  2120.48    612.727  17590.8     4273.94   …  14357.1   18535.3    14461.0  \n",
       " 12227.5   19725.7    16908.2    11577.7        9762.74   2495.77    6428.86 \n",
       " 19733.4    8872.2     6461.5    19161.4       15441.4    3861.48    1211.7  \n",
       "     ⋮                                      ⋱                                \n",
       " 13849.4   13096.3     3657.75    1753.15       1245.9    2318.92   15250.8  \n",
       " 17504.5   20209.3     8068.73    6038.2        9321.21  17755.5     3579.69 \n",
       " 15026.3   15075.3    12239.7     2768.86   …    554.04    368.877   1631.07 \n",
       "  3845.08  17819.0      106.865  14031.6        6103.98   9658.7    18221.7  \n",
       " 19335.0   13800.0     4324.02    6515.48       4406.54   7487.65    6328.95 \n",
       "  6400.84   9883.38   18504.0     9836.96      16235.0   14763.4     1475.61 \n",
       "  7250.46  17092.6     6872.6    15808.3        1701.13  19967.4    13340.2  \n",
       "  3658.77  12407.2    18555.5     6048.77   …   2617.59  10892.9     2584.72 \n",
       "  2812.67  18810.9     6007.79    2187.91       8169.28  11150.0     1241.36 \n",
       "  1670.45   4228.25    2767.13    8215.77      14551.8     677.033  16513.1  \n",
       " 11292.1   19769.6    11900.7     4621.37      19002.5     265.484   4373.34 \n",
       " 15198.1    9145.66    8126.8     4656.26       3347.33  15171.6    15388.9  "
      ]
     },
     "execution_count": 39,
     "metadata": {},
     "output_type": "execute_result"
    }
   ],
   "source": [
    "@time A += B"
   ]
  },
  {
   "cell_type": "markdown",
   "metadata": {},
   "source": [
    "Note the large amount of allocation here (1,000,000 $\\times$ 8 bytes)"
   ]
  },
  {
   "cell_type": "markdown",
   "metadata": {},
   "source": [
    "The in-place behaviour can be obtained using **pointwise operators**:"
   ]
  },
  {
   "cell_type": "code",
   "execution_count": 36,
   "metadata": {},
   "outputs": [
    {
     "name": "stdout",
     "output_type": "stream",
     "text": [
      "  0.001119 seconds (8 allocations: 288 bytes)\n"
     ]
    },
    {
     "data": {
      "text/plain": [
       "1000×1000 Array{Float64,2}:\n",
       " 18298.2   11571.7     9494.7    …   1774.49    9013.57    8762.93 \n",
       "  7644.71   5456.4     6134.15        330.592  10812.1    18106.1  \n",
       "  3604.53  15754.7     5982.72      17784.6    10603.9    13999.3  \n",
       "  8222.77  15363.7      230.36      10820.6    16843.6     3765.23 \n",
       "  9197.05  19167.9    15053.3       13473.6     1796.88    8041.52 \n",
       "  3392.26  17443.0     6253.24   …  19298.0    13640.3     8334.76 \n",
       " 14294.9    3296.97    7366.0        2772.54   10957.3    11259.7  \n",
       " 14407.5   11980.7     4521.02      13505.8     6124.05     729.698\n",
       "  2359.27   9716.78     786.538      6784.36   20500.7     9163.25 \n",
       "  7178.04   9382.61   14784.4        8452.66    7794.94     275.462\n",
       "  2120.17    612.637  17588.3    …  14355.0    18532.6    14458.9  \n",
       " 12225.7   19722.8    16905.8        9761.32    2495.4     6427.92 \n",
       " 19730.5    8870.91    6460.55      15439.1     3860.92    1211.52 \n",
       "     ⋮                           ⋱                                 \n",
       " 13847.4   13094.4     3657.22       1245.72    2318.59   15248.6  \n",
       " 17502.0   20206.4     8067.55       9319.85   17752.9     3579.17 \n",
       " 15024.1   15073.1    12237.9    …    553.96     368.824   1630.83 \n",
       "  3844.52  17816.4      106.849      6103.09    9657.29   18219.1  \n",
       " 19332.2   13798.0     4323.39       4405.9     7486.56    6328.02 \n",
       "  6399.91   9881.94   18501.3       16232.6    14761.3     1475.39 \n",
       "  7249.4   17090.1     6871.6        1700.88   19964.5    13338.2  \n",
       "  3658.24  12405.4    18552.8    …   2617.2    10891.3     2584.34 \n",
       "  2812.26  18808.1     6006.91       8168.09   11148.4     1241.18 \n",
       "  1670.2    4227.63    2766.72      14549.7      676.935  16510.7  \n",
       " 11290.5   19766.8    11899.0       18999.7      265.446   4372.71 \n",
       " 15195.8    9144.32    8125.62       3346.84   15169.3    15386.7  "
      ]
     },
     "execution_count": 36,
     "metadata": {},
     "output_type": "execute_result"
    }
   ],
   "source": [
    "A .= A .+ B"
   ]
  },
  {
   "cell_type": "code",
   "execution_count": 37,
   "metadata": {},
   "outputs": [
    {
     "name": "stdout",
     "output_type": "stream",
     "text": [
      "  0.001602 seconds (8 allocations: 288 bytes)\n"
     ]
    },
    {
     "data": {
      "text/plain": [
       "1000×1000 Array{Float64,2}:\n",
       " 18299.1   11572.3     9495.16   …   1774.58    9014.01    8763.36 \n",
       "  7645.09   5456.67    6134.45        330.608  10812.6    18107.0  \n",
       "  3604.7   15755.5     5983.01      17785.5    10604.4    13999.9  \n",
       "  8223.17  15364.5      230.371     10821.2    16844.4     3765.41 \n",
       "  9197.5   19168.8    15054.1       13474.2     1796.96    8041.91 \n",
       "  3392.42  17443.8     6253.55   …  19298.9    13641.0     8335.17 \n",
       " 14295.6    3297.13    7366.36       2772.67   10957.8    11260.2  \n",
       " 14408.2   11981.3     4521.24      13506.4     6124.34     729.733\n",
       "  2359.39   9717.25     786.576      6784.69   20501.7     9163.69 \n",
       "  7178.39   9383.07   14785.1        8453.07    7795.32     275.475\n",
       "  2120.28    612.667  17589.1    …  14355.7    18533.5    14459.6  \n",
       " 12226.3   19723.8    16906.6        9761.79    2495.53    6428.23 \n",
       " 19731.5    8871.34    6460.87      15439.9     3861.1     1211.58 \n",
       "     ⋮                           ⋱                                 \n",
       " 13848.1   13095.1     3657.39       1245.78    2318.7    15249.3  \n",
       " 17502.8   20207.3     8067.94       9320.31   17753.7     3579.35 \n",
       " 15024.8   15073.8    12238.5    …    553.986    368.841   1630.91 \n",
       "  3844.71  17817.3      106.854      6103.39    9657.76   18219.9  \n",
       " 19333.2   13798.7     4323.6        4406.11    7486.92    6328.33 \n",
       "  6400.22   9882.42   18502.2       16233.4    14762.0     1475.46 \n",
       "  7249.75  17091.0     6871.93       1700.97   19965.5    13338.9  \n",
       "  3658.42  12406.0    18553.7    …   2617.33   10891.8     2584.47 \n",
       "  2812.39  18809.0     6007.2        8168.49   11148.9     1241.24 \n",
       "  1670.28   4227.84    2766.86      14550.4      676.967  16511.5  \n",
       " 11291.0   19767.7    11899.5       19000.6      265.459   4372.92 \n",
       " 15196.6    9144.77    8126.01       3347.0    15170.1    15387.4  "
      ]
     },
     "execution_count": 37,
     "metadata": {},
     "output_type": "execute_result"
    }
   ],
   "source": [
    "@time A .= A .+ B"
   ]
  },
  {
   "cell_type": "markdown",
   "metadata": {},
   "source": [
    "Furthermore, we can chain such operations together with no creation of temporaries:"
   ]
  },
  {
   "cell_type": "code",
   "execution_count": 46,
   "metadata": {},
   "outputs": [
    {
     "name": "stdout",
     "output_type": "stream",
     "text": [
      "  2.626 ms (6 allocations: 7.63 MiB)\n"
     ]
    },
    {
     "data": {
      "text/plain": [
       "1000×1000 Array{Float64,2}:\n",
       "  6871.03    7508.43   6151.07  10138.4    …   5878.45    4342.9   12620.3 \n",
       "  2263.17    5360.1   11577.1    2205.83       6958.22    9295.74  11218.5 \n",
       "   483.878   1856.49   3755.18  14813.2         115.145   2609.76  11516.7 \n",
       " 12125.8    14842.5    3490.5   15315.2        1769.31    5973.3    2211.09\n",
       "  9887.45   10989.5    9158.5   15452.5       12181.2    14525.2    6659.89\n",
       "  4005.47   10119.7    7320.63   2867.35   …   4612.68   10629.1    2402.8 \n",
       " 15877.0     7978.97  11259.8    5609.87       7807.92   12885.3   10213.0 \n",
       "  3712.99    5512.19   9497.4   11834.9        5358.9     8356.29   2570.53\n",
       "  4808.12   13984.4    2802.51  10297.9        7302.3    12307.5   11400.4 \n",
       "  8550.36    9887.78  11272.6    7755.13       2589.72    7357.38  13315.8 \n",
       " 11759.0     5040.06  13658.2    9208.91   …   1415.75    9477.93   6824.76\n",
       "  6539.19    5129.52   4796.1    2844.78      15438.9     5459.98  10899.8 \n",
       " 11661.3     8025.83  12628.0    2743.05       7688.21    3537.06  12018.3 \n",
       "     ⋮                                     ⋱                               \n",
       "  1106.47   15470.3    3031.61    402.599     10626.7     7440.7    6100.23\n",
       "  7767.79    3657.14  11380.5    4998.18       3760.89    7636.37  11771.3 \n",
       "  9542.27    3456.08  12703.7    2119.67   …  10647.8    13429.2    9560.11\n",
       "  6948.58    2784.56   5455.49   3626.64      16116.6    11139.4   11688.8 \n",
       " 14716.9    14898.9    1798.38   3948.06      11793.8    11835.0   10365.7 \n",
       " 14082.5    12158.9   10189.2   10738.9       10133.7     8790.72   4188.02\n",
       "  7361.62    6430.37   9345.51   5718.02      12580.7     9916.56   7173.24\n",
       " 10274.8    10737.2   12757.3    6275.07   …  12999.1     1966.33   1261.57\n",
       " 12584.0     6962.85  14061.5   11339.4        6769.08    1782.62   2151.44\n",
       " 11021.6    11192.8    5385.54   4746.39      10274.5     6732.53   2344.26\n",
       " 11228.7     5359.87  11204.4    3198.68      11777.5     9425.21   4045.69\n",
       " 15874.7    11702.4    5074.02  12084.7        8473.43    7120.01   3104.04"
      ]
     },
     "execution_count": 46,
     "metadata": {},
     "output_type": "execute_result"
    }
   ],
   "source": [
    "C = rand(1000, 1000)\n",
    "\n",
    "@btime A .+= B + C  # allocates"
   ]
  },
  {
   "cell_type": "code",
   "execution_count": 47,
   "metadata": {
    "scrolled": false
   },
   "outputs": [
    {
     "name": "stdout",
     "output_type": "stream",
     "text": [
      "  1.128 ms (4 allocations: 160 bytes)\n"
     ]
    },
    {
     "data": {
      "text/plain": [
       "1000×1000 Array{Float64,2}:\n",
       " 14146.5   13674.5   15500.6   21106.7   …  11808.8    11325.8   20361.1 \n",
       "  8400.02   8328.81  20612.0    4522.03     10871.8    14623.4   20382.8 \n",
       "  1719.99   4333.43   8028.48  26482.2        238.767   4556.97  19861.2 \n",
       " 21694.6   26409.9    9644.93  27830.7       6651.68   14901.1    5488.46\n",
       " 17831.1   21956.4   17486.4   27811.0      22759.5    24967.1   15084.0 \n",
       "  9838.66  19514.7   11734.7   10462.1   …   9127.62   19148.9    4762.53\n",
       " 29448.8   14519.0   20407.8    9272.27     15940.1    24874.6   16150.0 \n",
       "  5748.72  10318.7   19741.1   22521.2      12381.5    14114.1    5887.41\n",
       " 13392.6   27275.9    9777.21  20438.6      11704.6    23703.1   20036.2 \n",
       " 14882.3   19368.3   21752.3   16320.5       8339.06   12431.3   21157.8 \n",
       " 19892.8   10699.7   26911.5   14695.3   …   2492.12   16109.2   12120.2 \n",
       " 10952.5   10349.7    8455.05   6170.75     27977.8    12389.6   19107.6 \n",
       " 22405.8   13025.1   24634.4    4520.95     14354.6     8298.81  24256.0 \n",
       "     ⋮                                   ⋱                               \n",
       "  1835.86  29574.9    5632.61   1219.27     18820.2    14322.6   10576.1 \n",
       " 13008.7   11510.0   18354.0   13767.1       7043.47   13577.5   19072.5 \n",
       " 15798.9    8512.33  24216.1    5892.89  …  22231.7    20830.2   17651.9 \n",
       " 12772.9    5421.51  10465.0    7585.66     29945.2    21946.2   22655.0 \n",
       " 25171.3   27234.2    6736.03   8394.34     20761.7    20674.9   18474.2 \n",
       " 23798.6   22154.6   16863.1   16556.0      18563.8    18863.8    8862.42\n",
       " 15957.8   11113.6   18801.4    9122.19     23584.0    15516.8   15867.2 \n",
       " 17980.1   19803.7   22847.1   15781.5   …  22675.1     5534.99   3139.46\n",
       " 24878.9   12181.7   26853.5   19987.5      15649.3     4227.59   5711.07\n",
       " 17338.4   17669.2    9984.19   8553.39     16611.9    13931.7    8905.21\n",
       " 19175.7    9721.73  18061.3    8623.52     23063.7    16616.6    7297.58\n",
       " 30347.7   19370.3   12450.8   18950.4      13357.9    13579.7    7089.79"
      ]
     },
     "execution_count": 47,
     "metadata": {},
     "output_type": "execute_result"
    }
   ],
   "source": [
    "@btime A .+= B .+ C  # does not allocate"
   ]
  },
  {
   "cell_type": "code",
   "execution_count": 40,
   "metadata": {},
   "outputs": [
    {
     "data": {
      "text/plain": [
       "myfunc (generic function with 1 method)"
      ]
     },
     "execution_count": 40,
     "metadata": {},
     "output_type": "execute_result"
    }
   ],
   "source": [
    "myfunc(x,y) = x + 2y"
   ]
  },
  {
   "cell_type": "code",
   "execution_count": 41,
   "metadata": {},
   "outputs": [
    {
     "data": {
      "text/plain": [
       "2-element Array{Int64,1}:\n",
       "  7\n",
       " 12"
      ]
     },
     "execution_count": 41,
     "metadata": {},
     "output_type": "execute_result"
    }
   ],
   "source": [
    "myfunc.([1,2], [3,5])"
   ]
  },
  {
   "cell_type": "markdown",
   "metadata": {},
   "source": [
    "See [this blog post by Steven Johnson](https://julialang.org/blog/2017/01/moredots) for more details."
   ]
  }
 ],
 "metadata": {
  "kernelspec": {
   "display_name": "Julia 0.6.0",
   "language": "julia",
   "name": "julia-0.6"
  },
  "language_info": {
   "file_extension": ".jl",
   "mimetype": "application/julia",
   "name": "julia",
   "version": "0.6.0"
  },
  "toc": {
   "colors": {
    "hover_highlight": "#DAA520",
    "running_highlight": "#FF0000",
    "selected_highlight": "#FFD700"
   },
   "moveMenuLeft": true,
   "nav_menu": {
    "height": "85px",
    "width": "252px"
   },
   "navigate_menu": true,
   "number_sections": true,
   "sideBar": true,
   "threshold": "2",
   "toc_cell": false,
   "toc_section_display": "block",
   "toc_window_display": false
  }
 },
 "nbformat": 4,
 "nbformat_minor": 2
}
